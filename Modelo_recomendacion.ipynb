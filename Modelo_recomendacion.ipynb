{
 "cells": [
  {
   "cell_type": "code",
   "execution_count": null,
   "metadata": {},
   "outputs": [],
   "source": [
    "import pandas as pd\n",
    "import numpy as np\n",
    "from scipy.sparse import csr_matrix, coo_matrix\n",
    "from surprise import Dataset\n",
    "from surprise import Reader\n",
    "from surprise import KNNBasic\n",
    "from surprise.model_selection import cross_validate\n",
    "\n",
    "# Cargar el conjunto de datos\n",
    "df = pd.read_csv('data/df_user_items.csv')\n",
    "\n",
    "# Preparar los datos\n",
    "# Eliminar columnas innecesarias\n",
    "df = df.drop(columns=['items_count', 'user_url', 'item_name'])\n",
    "\n",
    "# Crear una matriz de usuario-ítem utilizando scipy.sparse\n",
    "user_id_unique = df['user_id'][df['playtime_forever'] > 0].unique()\n",
    "item_id_unique = df['item_id'][df['playtime_forever'] > 0].unique()\n",
    "\n",
    "row_indices = np.searchsorted(user_id_unique, df['user_id'][df['playtime_forever'] > 0])\n",
    "col_indices = np.searchsorted(item_id_unique, df['item_id'][df['playtime_forever'] > 0])\n",
    "data = np.ones(len(row_indices))\n",
    "\n",
    "user_item_matrix = coo_matrix((data, (row_indices - 1, col_indices - 1)), shape=(len(user_id_unique), len(item_id_unique)))\n",
    "user_item_matrix = user_item_matrix.tocsr()\n",
    "\n",
    "# Crear un objeto Reader para el conjunto de datos\n",
    "reader = Reader(rating_scale=(0, df['playtime_forever'].max()))\n",
    "\n",
    "# Crear un objeto Dataset utilizando el DataFrame de usuario-ítem y el objeto Reader\n",
    "data = Dataset.load_from_folds([pd.DataFrame(user_item_matrix.toarray(), columns=df['item_id'][df['playtime_forever'] > 0]), reader], reader)\n",
    "\n",
    "# Entrenar el modelo de recomendación\n",
    "algo = KNNBasic()\n",
    "cross_validate(algo, data, measures=['RMSE', 'MAE'], cv=3, verbose=True)\n",
    "\n",
    "# Función de recomendación para un usuario dado\n",
    "def recommend(user_id, algo, n=10):\n",
    "    user_id = int(user_id)\n",
    "    user_idx = df.index[df['user_id'] == user_id].tolist()[0]\n",
    "    predictions = algo.predict(user_idx, df['item_id'][df['playtime_forever'] > 0].tolist())\n",
    "    sorted_predictions = sorted(predictions, key=lambda x: x.est, reverse=True)\n",
    "    recommended_items = [str(x.i) for x in sorted_predictions[0:n]]\n",
    "    return recommended_items\n",
    "\n",
    "# Hacer una recomendación para un usuario\n",
    "recommended_items = recommend(1, algo)\n",
    "print(recommended_items)"
   ]
  }
 ],
 "metadata": {
  "kernelspec": {
   "display_name": "Python 3",
   "language": "python",
   "name": "python3"
  },
  "language_info": {
   "name": "python",
   "version": "3.11.7"
  }
 },
 "nbformat": 4,
 "nbformat_minor": 2
}
